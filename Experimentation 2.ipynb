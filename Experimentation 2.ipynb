{
  "nbformat": 4,
  "nbformat_minor": 0,
  "metadata": {
    "colab": {
      "provenance": [],
      "include_colab_link": true
    },
    "kernelspec": {
      "name": "python3",
      "display_name": "Python 3"
    },
    "language_info": {
      "name": "python"
    }
  },
  "cells": [
    {
      "cell_type": "markdown",
      "metadata": {
        "id": "view-in-github",
        "colab_type": "text"
      },
      "source": [
        "<a href=\"https://colab.research.google.com/github/smalaboy/EEG-epileptic-spikes-detection/blob/main/Experimentation%202.ipynb\" target=\"_parent\"><img src=\"https://colab.research.google.com/assets/colab-badge.svg\" alt=\"Open In Colab\"/></a>"
      ]
    },
    {
      "cell_type": "markdown",
      "source": [
        "Setting up environment"
      ],
      "metadata": {
        "id": "eNyCktb7aiZ6"
      }
    },
    {
      "cell_type": "code",
      "execution_count": null,
      "metadata": {
        "colab": {
          "base_uri": "https://localhost:8080/"
        },
        "id": "Mi6hGGHac7zt",
        "outputId": "ce69b191-6c9b-4550-8e1b-9b4513ec09ac"
      },
      "outputs": [
        {
          "output_type": "stream",
          "name": "stdout",
          "text": [
            "Collecting pyts\n",
            "  Downloading pyts-0.12.0-py3-none-any.whl (2.5 MB)\n",
            "\u001b[K     |████████████████████████████████| 2.5 MB 5.2 MB/s \n",
            "\u001b[?25hRequirement already satisfied: scipy>=1.3.0 in /usr/local/lib/python3.7/dist-packages (from pyts) (1.4.1)\n",
            "Requirement already satisfied: numba>=0.48.0 in /usr/local/lib/python3.7/dist-packages (from pyts) (0.51.2)\n",
            "Requirement already satisfied: numpy>=1.17.5 in /usr/local/lib/python3.7/dist-packages (from pyts) (1.21.6)\n",
            "Requirement already satisfied: scikit-learn>=0.22.1 in /usr/local/lib/python3.7/dist-packages (from pyts) (1.0.2)\n",
            "Requirement already satisfied: joblib>=0.12 in /usr/local/lib/python3.7/dist-packages (from pyts) (1.1.0)\n",
            "Requirement already satisfied: llvmlite<0.35,>=0.34.0.dev0 in /usr/local/lib/python3.7/dist-packages (from numba>=0.48.0->pyts) (0.34.0)\n",
            "Requirement already satisfied: setuptools in /usr/local/lib/python3.7/dist-packages (from numba>=0.48.0->pyts) (57.4.0)\n",
            "Requirement already satisfied: threadpoolctl>=2.0.0 in /usr/local/lib/python3.7/dist-packages (from scikit-learn>=0.22.1->pyts) (3.1.0)\n",
            "Installing collected packages: pyts\n",
            "Successfully installed pyts-0.12.0\n"
          ]
        }
      ],
      "source": [
        "!pip install pyts"
      ]
    },
    {
      "cell_type": "code",
      "source": [
        "from google.colab import drive\n",
        "drive.mount('/content/drive')"
      ],
      "metadata": {
        "colab": {
          "base_uri": "https://localhost:8080/"
        },
        "id": "7RcyEfWnS4dN",
        "outputId": "8b0ed42f-1dca-49de-f914-6c4588707de4"
      },
      "execution_count": null,
      "outputs": [
        {
          "output_type": "stream",
          "name": "stdout",
          "text": [
            "Mounted at /content/drive\n"
          ]
        }
      ]
    },
    {
      "cell_type": "code",
      "source": [
        "import numpy as np\n",
        "import matplotlib.pyplot as plt\n",
        "import random"
      ],
      "metadata": {
        "id": "iGWSggX2di-8"
      },
      "execution_count": null,
      "outputs": []
    },
    {
      "cell_type": "code",
      "source": [
        "positive_shape = [400, 5 * 768]  # Shape of the data to read for multivariate classifier\n",
        "negative_shape = [2000, 5 * 768]\n",
        "testing_shape = [1200, 5 * 768]"
      ],
      "metadata": {
        "id": "ZIVE1UcZXvaG"
      },
      "execution_count": null,
      "outputs": []
    },
    {
      "cell_type": "code",
      "source": [
        "# Reading the data into numpy arrays\n",
        "positive_series = np.fromfile('/content/drive/MyDrive/datasets/exp1-train-400pos.bin', dtype=np.float32).reshape(positive_shape)\n",
        "positive_series2 = np.fromfile('/content/drive/MyDrive/datasets/exp2-train-400pos.bin', dtype=np.float32).reshape(positive_shape)\n",
        "negative_series = np.fromfile('/content/drive/MyDrive/datasets/exp1-train-2000neg.bin', dtype=np.float32).reshape(negative_shape)\n",
        "negative_series2 = np.fromfile('/content/drive/MyDrive/datasets/exp2-train-2000neg.bin', dtype=np.float32).reshape(negative_shape)"
      ],
      "metadata": {
        "id": "trUtDOohdue3"
      },
      "execution_count": null,
      "outputs": []
    },
    {
      "cell_type": "code",
      "source": [
        "# Concatenating and splitting for training and testing\n",
        "p_train = np.concatenate((positive_series[:350], positive_series2[:350] ))\n",
        "p_test = np.concatenate((positive_series[350:], positive_series2[350:]))\n",
        "n_train = np.concatenate((negative_series[:1750], negative_series2[:1750]))\n",
        "n_test = np.concatenate((negative_series[1750:], negative_series2[1750:]))"
      ],
      "metadata": {
        "id": "6s9E5MVCmoxK"
      },
      "execution_count": null,
      "outputs": []
    },
    {
      "cell_type": "code",
      "source": [
        "X_train = np.concatenate((p_train, n_train))\n",
        "# X_train = [[(row - row.min()) / (row.max() - row.min()) for row in rowset] for rowset in X_train]\n",
        "X_test = np.concatenate((p_test, n_test))\n",
        "# X_test = [[(row - row.min()) / (row.max() - row.min()) for row in rowset] for rowset in X_test]"
      ],
      "metadata": {
        "id": "STGOMDzXgRMo"
      },
      "execution_count": null,
      "outputs": []
    },
    {
      "cell_type": "code",
      "source": [
        "y_train = np.concatenate((np.ones((700,)), np.zeros((3500,))))\n",
        "y_test = np.concatenate((np.ones((100,)), np.zeros((500,))))\n",
        "print(y_train.shape, y_test.shape)"
      ],
      "metadata": {
        "colab": {
          "base_uri": "https://localhost:8080/"
        },
        "id": "HadruCHEigg4",
        "outputId": "b7ae2180-38b8-4ae1-9681-c2aa407b2664"
      },
      "execution_count": null,
      "outputs": [
        {
          "output_type": "stream",
          "name": "stdout",
          "text": [
            "(4200,) (600,)\n"
          ]
        }
      ]
    },
    {
      "cell_type": "code",
      "source": [
        "import matplotlib.pyplot as plt\n",
        "import numpy as np\n",
        "import itertools\n",
        "from sklearn.metrics import confusion_matrix\n",
        "\n",
        "def show_confusion_matrix(y_true, y_pred, labels=[], classes=[]):\n",
        "    \"\"\"\n",
        "    Confusion matrix\n",
        "    \"\"\"\n",
        "    matrix = confusion_matrix(y_true, y_pred, labels=labels)\n",
        "    matrix = matrix.astype('float') / matrix.sum(axis=1)[:, np.newaxis]\n",
        "\n",
        "    plt.figure()\n",
        "\n",
        "    cmap=plt.cm.Reds\n",
        "\n",
        "    print(matrix)\n",
        "\n",
        "    plt.imshow(matrix, interpolation='nearest', cmap=cmap)\n",
        "    plt.title(\"Confusion matrix\")\n",
        "    plt.colorbar()\n",
        "    tick_marks = np.arange(len(classes))\n",
        "    plt.xticks(tick_marks, classes, rotation=45)\n",
        "    plt.yticks(tick_marks, classes)\n",
        "\n",
        "    # fmt = '.2f'\n",
        "    thresh = matrix.max() / 2.\n",
        "    for i, j in itertools.product(range(matrix.shape[0]), range(matrix.shape[1])):\n",
        "        plt.text(j, i, format(matrix[i, j], '.2f'),\n",
        "                 horizontalalignment=\"center\",\n",
        "                 color=\"white\" if matrix[i, j] > thresh else \"black\")\n",
        "\n",
        "    plt.tight_layout()\n",
        "    plt.ylabel('True')\n",
        "    plt.xlabel('Predicted')\n",
        "    plt.savefig(\"confusion_matrix.png\")\n",
        "    plt.show()"
      ],
      "metadata": {
        "id": "CRiyc5nf6T5s"
      },
      "execution_count": null,
      "outputs": []
    },
    {
      "cell_type": "code",
      "source": [
        "import datetime\n",
        "from pyts.classification import KNeighborsClassifier, TimeSeriesForest, BOSSVS, SAXVSM, TSBF\n",
        "t = datetime.datetime.now()\n",
        "# clf = KNeighborsClassifier(n_neighbors=5)\n",
        "\n",
        "clf = TimeSeriesForest(n_estimators=500, n_windows=1.0)\n",
        "\n",
        "# clf = SAXVSM(window_size=64, word_size=12, n_bins=5, strategy='normal')\n",
        "\n",
        "# clf = TSBF(random_state=43)\n",
        "clf.fit(X_train, y_train)\n",
        "\n",
        "print(\"The trainig time is\", (datetime.datetime.now() - t))"
      ],
      "metadata": {
        "id": "kB61Ub7Bi01_",
        "colab": {
          "base_uri": "https://localhost:8080/"
        },
        "outputId": "7dadc474-afeb-4b1d-c54a-b2c57ce5b01a"
      },
      "execution_count": null,
      "outputs": [
        {
          "output_type": "stream",
          "name": "stdout",
          "text": [
            "The trainig time is 0:05:16.831246\n"
          ]
        }
      ]
    },
    {
      "cell_type": "code",
      "source": [
        "clf.score(X_test, y_test)"
      ],
      "metadata": {
        "id": "4tDgQV5kj0fq",
        "colab": {
          "base_uri": "https://localhost:8080/"
        },
        "outputId": "86f756ce-96d6-44fc-82f8-d9083e78aa82"
      },
      "execution_count": null,
      "outputs": [
        {
          "output_type": "execute_result",
          "data": {
            "text/plain": [
              "0.9466666666666667"
            ]
          },
          "metadata": {},
          "execution_count": 30
        }
      ]
    },
    {
      "cell_type": "code",
      "source": [
        "t = datetime.datetime.now()\n",
        "predicted = clf.predict(X_test)\n",
        "print(\"Prediction time is =\", (datetime.datetime.now() - t))\n",
        "show_confusion_matrix(y_test, predicted, labels=[0, 1], classes=['Negative', \"Positive\"])"
      ],
      "metadata": {
        "colab": {
          "base_uri": "https://localhost:8080/",
          "height": 363
        },
        "id": "Wa90VS1h6mKr",
        "outputId": "767689b4-1ef9-46b5-d277-8ce1881e8684"
      },
      "execution_count": null,
      "outputs": [
        {
          "output_type": "stream",
          "name": "stdout",
          "text": [
            "Prediction time is = 0:00:16.758395\n",
            "[[0.994 0.006]\n",
            " [0.29  0.71 ]]\n"
          ]
        },
        {
          "output_type": "display_data",
          "data": {
            "text/plain": [
              "<Figure size 432x288 with 2 Axes>"
            ],
            "image/png": "[encoded data removed]"
          },
          "metadata": {
            "needs_background": "light"
          }
        }
      ]
    },
    {
      "cell_type": "code",
      "source": [
        "# predicted"
      ],
      "metadata": {
        "id": "VNSfkzXI3hf7"
      },
      "execution_count": null,
      "outputs": []
    },
    {
      "cell_type": "code",
      "source": [
        "import sklearn\n",
        "print(sklearn.metrics.classification_report(y_test, predicted, target_names=['Negative', \"Positive\"]))"
      ],
      "metadata": {
        "id": "Al-_j8cF2IVb",
        "colab": {
          "base_uri": "https://localhost:8080/"
        },
        "outputId": "052271af-bbf7-47be-dcb3-27069dda63bc"
      },
      "execution_count": null,
      "outputs": [
        {
          "output_type": "stream",
          "name": "stdout",
          "text": [
            "              precision    recall  f1-score   support\n",
            "\n",
            "    Negative       0.94      0.99      0.97       500\n",
            "    Positive       0.96      0.71      0.82       100\n",
            "\n",
            "    accuracy                           0.95       600\n",
            "   macro avg       0.95      0.85      0.89       600\n",
            "weighted avg       0.95      0.95      0.94       600\n",
            "\n"
          ]
        }
      ]
    },
    {
      "cell_type": "markdown",
      "source": [
        "**Test with multivariate classifier**"
      ],
      "metadata": {
        "id": "pF2Sl3e2WCYV"
      }
    },
    {
      "cell_type": "code",
      "source": [
        "from pyts.classification import BOSSVS, TimeSeriesForest\n",
        "from pyts.datasets import load_basic_motions\n",
        "from pyts.multivariate.classification import MultivariateClassifier\n",
        "# X_train_, X_test_, y_train_, y_test_ = load_basic_motions(return_X_y=True)\n",
        "# print(X_train_[0].shape)\n",
        "# print(y_train_.shape)\n",
        "m_clf = MultivariateClassifier(TimeSeriesForest(n_estimators=384))\n",
        "# m_clf = MultivariateClassifier(KNeighborsClassifier(n_neighbors=5))\n",
        "_X_train = X_train.reshape([4200, 5, 768])\n",
        "_X_test = X_test.reshape([600, 5, 768])\n",
        "m_clf.fit(_X_train, y_train)\n",
        "m_clf.score(_X_test, y_test)"
      ],
      "metadata": {
        "colab": {
          "base_uri": "https://localhost:8080/"
        },
        "id": "0nGcmalKWGz-",
        "outputId": "64d9abd2-b12c-4a09-fbc6-c5d9a7316981"
      },
      "execution_count": null,
      "outputs": [
        {
          "output_type": "execute_result",
          "data": {
            "text/plain": [
              "0.93"
            ]
          },
          "metadata": {},
          "execution_count": 34
        }
      ]
    },
    {
      "cell_type": "code",
      "source": [
        "import sklearn\n",
        "t = datetime.datetime.now()\n",
        "m_predicted = m_clf.predict(_X_test)\n",
        "print(\"Prediction time is =\", (datetime.datetime.now() - t))\n",
        "print(sklearn.metrics.classification_report(y_test, m_predicted, target_names=['Negative', \"Positive\"]))\n",
        "show_confusion_matrix(y_test, m_predicted, labels=[0, 1], classes=['Negative', \"Positive\"])"
      ],
      "metadata": {
        "colab": {
          "base_uri": "https://localhost:8080/",
          "height": 519
        },
        "id": "YLw0uRM5ZKKf",
        "outputId": "74d3cd7d-2947-426f-dbf3-538919684ff0"
      },
      "execution_count": null,
      "outputs": [
        {
          "output_type": "stream",
          "name": "stdout",
          "text": [
            "Prediction time is = 0:00:04.318581\n",
            "              precision    recall  f1-score   support\n",
            "\n",
            "    Negative       0.93      0.99      0.96       500\n",
            "    Positive       0.95      0.61      0.74       100\n",
            "\n",
            "    accuracy                           0.93       600\n",
            "   macro avg       0.94      0.80      0.85       600\n",
            "weighted avg       0.93      0.93      0.92       600\n",
            "\n",
            "[[0.994 0.006]\n",
            " [0.39  0.61 ]]\n"
          ]
        },
        {
          "output_type": "display_data",
          "data": {
            "text/plain": [
              "<Figure size 432x288 with 2 Axes>"
            ],
            "image/png": "[encoded data removed]"
          },
          "metadata": {
            "needs_background": "light"
          }
        }
      ]
    },
    {
      "cell_type": "markdown",
      "source": [
        "**Testing part**"
      ],
      "metadata": {
        "id": "9M6I40uI0kSr"
      }
    },
    {
      "cell_type": "code",
      "source": [
        "positive_series = np.fromfile('/content/drive/MyDrive/datasets/exp1-train-400pos.bin', dtype=np.float32).reshape(positive_shape)\n",
        "positive_series2 = np.fromfile('/content/drive/MyDrive/datasets/exp2-train-400pos.bin', dtype=np.float32).reshape(positive_shape)\n",
        "negative_series = np.fromfile('/content/drive/MyDrive/datasets/exp1-train-2000neg.bin', dtype=np.float32).reshape(negative_shape)\n",
        "negative_series2 = np.fromfile('/content/drive/MyDrive/datasets/exp2-train-2000neg.bin', dtype=np.float32).reshape(negative_shape)"
      ],
      "metadata": {
        "id": "w0_vxK4B1HRT"
      },
      "execution_count": null,
      "outputs": []
    },
    {
      "cell_type": "code",
      "source": [
        "X = np.concatenate((positive_series, positive_series2, negative_series, negative_series2))\n",
        "y = np.concatenate((np.ones((800,)), np.zeros((4000,))))\n",
        "X_m = X.reshape([4800, 5, 768])  # Used for multivariate classification"
      ],
      "metadata": {
        "id": "qS-fgi5X0AQM"
      },
      "execution_count": null,
      "outputs": []
    },
    {
      "cell_type": "code",
      "source": [
        "from pyts.classification import KNeighborsClassifier, TimeSeriesForest, BOSSVS, SAXVSM, TSBF\n",
        "from pyts.multivariate.classification import MultivariateClassifier\n",
        "def train(X, y):\n",
        "  # Next two are used for simple TimeseriesForest\n",
        "  clf = TimeSeriesForest(n_estimators=500)\n",
        "  clf.fit(X, y)\n",
        "\n",
        "  # Uncomment the nex two lines for multivariate TimeseriesForest\n",
        "  # clf = MultivariateClassifier(TimeSeriesForest(n_estimators=384))\n",
        "  # clf.fit(X_m, y)\n",
        "\n",
        "  return clf"
      ],
      "metadata": {
        "id": "xqegIac41ZPv"
      },
      "execution_count": null,
      "outputs": []
    },
    {
      "cell_type": "code",
      "source": [
        "import datetime\n",
        "t = datetime.datetime.now()\n",
        "classifier = train(X, y)  # TimeseriesForest\n",
        "# classifier = train(X_m, y)  # Multivariate TimeseriesForest\n",
        "print(\"Training time is =\", (datetime.datetime.now() - t))"
      ],
      "metadata": {
        "id": "JZUoWhylAVVP",
        "colab": {
          "base_uri": "https://localhost:8080/"
        },
        "outputId": "6acb5496-203a-4054-c06d-6863e2aafc39"
      },
      "execution_count": null,
      "outputs": [
        {
          "output_type": "stream",
          "name": "stdout",
          "text": [
            "Training time is = 0:06:13.338885\n"
          ]
        }
      ]
    },
    {
      "cell_type": "code",
      "source": [
        "test_series = np.fromfile('/content/drive/MyDrive/datasets/exp12-test-1200.bin', dtype=np.float32).reshape(testing_shape)"
      ],
      "metadata": {
        "id": "ugGADBBQcjYh"
      },
      "execution_count": null,
      "outputs": []
    },
    {
      "cell_type": "code",
      "source": [
        "t = datetime.datetime.now()\n",
        "final_predictions = classifier.predict(test_series)\n",
        "# final_predictions = classifier.predict(test_series.reshape([1200, 5, 768]) )  # Multivariate\n",
        "print(\"Prediction time is =\", (datetime.datetime.now() - t))"
      ],
      "metadata": {
        "id": "RWQ9RQRMc8-y",
        "colab": {
          "base_uri": "https://localhost:8080/"
        },
        "outputId": "78aa9f6f-de8e-468c-ddef-2066c75107ab"
      },
      "execution_count": null,
      "outputs": [
        {
          "output_type": "stream",
          "name": "stdout",
          "text": [
            "Prediction time is = 0:00:33.998441\n"
          ]
        }
      ]
    },
    {
      "cell_type": "markdown",
      "source": [
        "**Saving to csv**"
      ],
      "metadata": {
        "id": "2aGq9O8oFvqP"
      }
    },
    {
      "cell_type": "code",
      "source": [
        "import pandas as pd\n",
        "data = {\n",
        "    \"outcome\": list(map(int, final_predictions)),\n",
        "    \"id\": list(range(1200))\n",
        "    }\n",
        "\n",
        "df = pd.DataFrame(data=data)\n",
        "df"
      ],
      "metadata": {
        "colab": {
          "base_uri": "https://localhost:8080/",
          "height": 423
        },
        "id": "CT6zUVUNFyKY",
        "outputId": "78acb2ce-b2e9-4665-c4cc-aefab6b10694"
      },
      "execution_count": null,
      "outputs": [
        {
          "output_type": "execute_result",
          "data": {
            "text/plain": [
              "      outcome    id\n",
              "0           1     0\n",
              "1           0     1\n",
              "2           0     2\n",
              "3           0     3\n",
              "4           0     4\n",
              "...       ...   ...\n",
              "1195        0  1195\n",
              "1196        0  1196\n",
              "1197        0  1197\n",
              "1198        0  1198\n",
              "1199        0  1199\n",
              "\n",
              "[1200 rows x 2 columns]"
            ],
            "text/html": [
              "\n",
              "  <div id=\"df-d1c9772b-aa55-45c6-b3fb-1c8b26df9f7b\">\n",
              "    <div class=\"colab-df-container\">\n",
              "      <div>\n",
              "<style scoped>\n",
              "    .dataframe tbody tr th:only-of-type {\n",
              "        vertical-align: middle;\n",
              "    }\n",
              "\n",
              "    .dataframe tbody tr th {\n",
              "        vertical-align: top;\n",
              "    }\n",
              "\n",
              "    .dataframe thead th {\n",
              "        text-align: right;\n",
              "    }\n",
              "</style>\n",
              "<table border=\"1\" class=\"dataframe\">\n",
              "  <thead>\n",
              "    <tr style=\"text-align: right;\">\n",
              "      <th></th>\n",
              "      <th>outcome</th>\n",
              "      <th>id</th>\n",
              "    </tr>\n",
              "  </thead>\n",
              "  <tbody>\n",
              "    <tr>\n",
              "      <th>0</th>\n",
              "      <td>1</td>\n",
              "      <td>0</td>\n",
              "    </tr>\n",
              "    <tr>\n",
              "      <th>1</th>\n",
              "      <td>0</td>\n",
              "      <td>1</td>\n",
              "    </tr>\n",
              "    <tr>\n",
              "      <th>2</th>\n",
              "      <td>0</td>\n",
              "      <td>2</td>\n",
              "    </tr>\n",
              "    <tr>\n",
              "      <th>3</th>\n",
              "      <td>0</td>\n",
              "      <td>3</td>\n",
              "    </tr>\n",
              "    <tr>\n",
              "      <th>4</th>\n",
              "      <td>0</td>\n",
              "      <td>4</td>\n",
              "    </tr>\n",
              "    <tr>\n",
              "      <th>...</th>\n",
              "      <td>...</td>\n",
              "      <td>...</td>\n",
              "    </tr>\n",
              "    <tr>\n",
              "      <th>1195</th>\n",
              "      <td>0</td>\n",
              "      <td>1195</td>\n",
              "    </tr>\n",
              "    <tr>\n",
              "      <th>1196</th>\n",
              "      <td>0</td>\n",
              "      <td>1196</td>\n",
              "    </tr>\n",
              "    <tr>\n",
              "      <th>1197</th>\n",
              "      <td>0</td>\n",
              "      <td>1197</td>\n",
              "    </tr>\n",
              "    <tr>\n",
              "      <th>1198</th>\n",
              "      <td>0</td>\n",
              "      <td>1198</td>\n",
              "    </tr>\n",
              "    <tr>\n",
              "      <th>1199</th>\n",
              "      <td>0</td>\n",
              "      <td>1199</td>\n",
              "    </tr>\n",
              "  </tbody>\n",
              "</table>\n",
              "<p>1200 rows × 2 columns</p>\n",
              "</div>\n",
              "      <button class=\"colab-df-convert\" onclick=\"convertToInteractive('df-d1c9772b-aa55-45c6-b3fb-1c8b26df9f7b')\"\n",
              "              title=\"Convert this dataframe to an interactive table.\"\n",
              "              style=\"display:none;\">\n",
              "        \n",
              "  <svg xmlns=\"http://www.w3.org/2000/svg\" height=\"24px\"viewBox=\"0 0 24 24\"\n",
              "       width=\"24px\">\n",
              "    <path d=\"M0 0h24v24H0V0z\" fill=\"none\"/>\n",
              "    <path d=\"M18.56 5.44l.94 2.06.94-2.06 2.06-.94-2.06-.94-.94-2.06-.94 2.06-2.06.94zm-11 1L8.5 8.5l.94-2.06 2.06-.94-2.06-.94L8.5 2.5l-.94 2.06-2.06.94zm10 10l.94 2.06.94-2.06 2.06-.94-2.06-.94-.94-2.06-.94 2.06-2.06.94z\"/><path d=\"M17.41 7.96l-1.37-1.37c-.4-.4-.92-.59-1.43-.59-.52 0-1.04.2-1.43.59L10.3 9.45l-7.72 7.72c-.78.78-.78 2.05 0 2.83L4 21.41c.39.39.9.59 1.41.59.51 0 1.02-.2 1.41-.59l7.78-7.78 2.81-2.81c.8-.78.8-2.07 0-2.86zM5.41 20L4 18.59l7.72-7.72 1.47 1.35L5.41 20z\"/>\n",
              "  </svg>\n",
              "      </button>\n",
              "      \n",
              "  <style>\n",
              "    .colab-df-container {\n",
              "      display:flex;\n",
              "      flex-wrap:wrap;\n",
              "      gap: 12px;\n",
              "    }\n",
              "\n",
              "    .colab-df-convert {\n",
              "      background-color: #E8F0FE;\n",
              "      border: none;\n",
              "      border-radius: 50%;\n",
              "      cursor: pointer;\n",
              "      display: none;\n",
              "      fill: #1967D2;\n",
              "      height: 32px;\n",
              "      padding: 0 0 0 0;\n",
              "      width: 32px;\n",
              "    }\n",
              "\n",
              "    .colab-df-convert:hover {\n",
              "      background-color: #E2EBFA;\n",
              "      box-shadow: 0px 1px 2px rgba(60, 64, 67, 0.3), 0px 1px 3px 1px rgba(60, 64, 67, 0.15);\n",
              "      fill: #174EA6;\n",
              "    }\n",
              "\n",
              "    [theme=dark] .colab-df-convert {\n",
              "      background-color: #3B4455;\n",
              "      fill: #D2E3FC;\n",
              "    }\n",
              "\n",
              "    [theme=dark] .colab-df-convert:hover {\n",
              "      background-color: #434B5C;\n",
              "      box-shadow: 0px 1px 3px 1px rgba(0, 0, 0, 0.15);\n",
              "      filter: drop-shadow(0px 1px 2px rgba(0, 0, 0, 0.3));\n",
              "      fill: #FFFFFF;\n",
              "    }\n",
              "  </style>\n",
              "\n",
              "      <script>\n",
              "        const buttonEl =\n",
              "          document.querySelector('#df-d1c9772b-aa55-45c6-b3fb-1c8b26df9f7b button.colab-df-convert');\n",
              "        buttonEl.style.display =\n",
              "          google.colab.kernel.accessAllowed ? 'block' : 'none';\n",
              "\n",
              "        async function convertToInteractive(key) {\n",
              "          const element = document.querySelector('#df-d1c9772b-aa55-45c6-b3fb-1c8b26df9f7b');\n",
              "          const dataTable =\n",
              "            await google.colab.kernel.invokeFunction('convertToInteractive',\n",
              "                                                     [key], {});\n",
              "          if (!dataTable) return;\n",
              "\n",
              "          const docLinkHtml = 'Like what you see? Visit the ' +\n",
              "            '<a target=\"_blank\" href=https://colab.research.google.com/notebooks/data_table.ipynb>data table notebook</a>'\n",
              "            + ' to learn more about interactive tables.';\n",
              "          element.innerHTML = '';\n",
              "          dataTable['output_type'] = 'display_data';\n",
              "          await google.colab.output.renderOutput(dataTable, element);\n",
              "          const docLink = document.createElement('div');\n",
              "          docLink.innerHTML = docLinkHtml;\n",
              "          element.appendChild(docLink);\n",
              "        }\n",
              "      </script>\n",
              "    </div>\n",
              "  </div>\n",
              "  "
            ]
          },
          "metadata": {},
          "execution_count": 42
        }
      ]
    },
    {
      "cell_type": "code",
      "source": [
        "df.to_csv(\"csv_file.csv\", index=False)"
      ],
      "metadata": {
        "id": "YG-hafFCHXAT"
      },
      "execution_count": null,
      "outputs": []
    }
  ]
}